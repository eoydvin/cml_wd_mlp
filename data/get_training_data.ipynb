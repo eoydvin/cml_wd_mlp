{
 "cells": [
  {
   "cell_type": "markdown",
   "id": "ec50fefe-6aad-40e2-a3b3-e92ddfc7fbe5",
   "metadata": {},
   "source": [
    "# Select training data from large CML dataset\n",
    "This code can only be run if you have the large CML dataset. "
   ]
  },
  {
   "cell_type": "code",
   "execution_count": 1,
   "id": "ea17e800-855d-4f0b-aecc-d2fca4b74c75",
   "metadata": {},
   "outputs": [],
   "source": [
    "import numpy as np\n",
    "import xarray as xr\n",
    "from sklearn.metrics import matthews_corrcoef"
   ]
  },
  {
   "cell_type": "markdown",
   "id": "3a8f8f2c-7a23-40b6-9e7e-0cbb750d1b8c",
   "metadata": {},
   "source": [
    "## For rain gauge reference"
   ]
  },
  {
   "cell_type": "code",
   "execution_count": 2,
   "id": "d4375e3d-f456-4dbb-83f5-13e999b955df",
   "metadata": {},
   "outputs": [],
   "source": [
    "# Read CML data with data from nearest rain gauge\n",
    "ds_cmls = xr.open_dataset('/home/erlend/delete/cml_data_germany.nc')"
   ]
  },
  {
   "cell_type": "code",
   "execution_count": 3,
   "id": "31eee6c2-97f4-46e2-a0aa-8a5c0a6be52b",
   "metadata": {},
   "outputs": [],
   "source": [
    "# Rename variables from German dataset to make it run on this code\n",
    "ds_cmls = ds_cmls.rename({'channel_id': 'sublink_id'})"
   ]
  },
  {
   "cell_type": "code",
   "execution_count": 4,
   "id": "bbfe93f4-86c6-4e80-83f3-62b6f4012d4e",
   "metadata": {},
   "outputs": [
    {
     "name": "stderr",
     "output_type": "stream",
     "text": [
      "/home/erlend/miniforge3/envs/pycomlink-dev/lib/python3.12/site-packages/numpy/lib/_nanfunctions_impl.py:1634: RuntimeWarning: All-NaN slice encountered\n",
      "  return fnb._ureduce(a,\n"
     ]
    }
   ],
   "source": [
    "# Select training data using RSD and the MCC metric.\n",
    "roll_std_dev = ds_cmls.trsl.rolling(time=60, center=True).std() \n",
    "\n",
    "threshold = 1.12*roll_std_dev.quantile(0.8,dim='time')\n",
    "\n",
    "ds_cmls[\"wet_graf\"] = roll_std_dev>threshold\n",
    "\n",
    "keep = []\n",
    "mccs = []\n",
    "rg_used = [] # ensure that we use unique rain gauges\n",
    "for cml_id in ds_cmls.cml_id:\n",
    "    mcc_1 = matthews_corrcoef(ds_cmls.sel(cml_id = cml_id).gauge_wet, ds_cmls.sel(cml_id = cml_id).wet_graf.isel(sublink_id = 0 ))\n",
    "    mcc_2 = matthews_corrcoef(ds_cmls.sel(cml_id = cml_id).gauge_wet, ds_cmls.sel(cml_id = cml_id).wet_graf.isel(sublink_id = 1 ))\n",
    "    ch_1 =  mcc_1 > 0.3 \n",
    "    ch_2 =  mcc_2 > 0.3\n",
    "\n",
    "    # Use CML if both channels have a good mcc and the rain gauge has not been used before\n",
    "    if ch_1 and ch_2 and (ds_cmls.sel(cml_id = cml_id).gauge_id.values not in rg_used):# and (rainammount < 0.20) and (rainammount > 0.01):\n",
    "        rg_used.append(ds_cmls.sel(cml_id = cml_id).gauge_id.values)\n",
    "        keep.append(cml_id.values) # record name of cml\n",
    "        mccs.append(mcc_1) # record mcc from channel 1\n",
    "\n",
    "# get the 25 largest mccs\n",
    "indices = np.argpartition(mccs, -26)[-26:]\n",
    "keep = np.array(keep)[indices]\n",
    "\n",
    "# Select training data\n",
    "ds_cmls = ds_cmls.sel(cml_id = keep)"
   ]
  },
  {
   "cell_type": "code",
   "execution_count": 5,
   "id": "22066b9b-18eb-47b2-9877-ab187eb4423d",
   "metadata": {},
   "outputs": [],
   "source": [
    "# Rename CMLs\n",
    "ds_cmls['cml_id'] = np.arange(ds_cmls.cml_id.size).astype(str)\n",
    "\n",
    "# Remove coordinates\n",
    "ds_cmls = ds_cmls.reset_coords(drop=True)"
   ]
  },
  {
   "cell_type": "code",
   "execution_count": 6,
   "id": "db129294-3e34-4a00-b91b-f0f903d08e58",
   "metadata": {},
   "outputs": [],
   "source": [
    "# Save CML data \n",
    "ds_cmls.to_netcdf(\"train_rg.nc\")"
   ]
  },
  {
   "cell_type": "markdown",
   "id": "865b1682-f568-46cf-9f75-fe7751edc1d6",
   "metadata": {},
   "source": [
    "## For radar reference"
   ]
  },
  {
   "cell_type": "code",
   "execution_count": 7,
   "id": "ccdfd991-b81d-4436-9249-056376983e61",
   "metadata": {},
   "outputs": [],
   "source": [
    "# Read CML data with data from weather radar along CML\n",
    "ds_cmls = xr.open_dataset('/home/erlend/delete/cml_data_germany.nc')"
   ]
  },
  {
   "cell_type": "code",
   "execution_count": 8,
   "id": "6610a18e-d1ac-4260-9daf-7dfb8702f451",
   "metadata": {},
   "outputs": [],
   "source": [
    "# Rename variables from German dataset to make it run on this code\n",
    "ds_cmls = ds_cmls.rename({'channel_id': 'sublink_id'})"
   ]
  },
  {
   "cell_type": "code",
   "execution_count": 9,
   "id": "fe663800-93de-4e0e-a8ec-9fe98a02f085",
   "metadata": {},
   "outputs": [
    {
     "name": "stderr",
     "output_type": "stream",
     "text": [
      "/home/erlend/miniforge3/envs/pycomlink-dev/lib/python3.12/site-packages/numpy/lib/_nanfunctions_impl.py:1634: RuntimeWarning: All-NaN slice encountered\n",
      "  return fnb._ureduce(a,\n"
     ]
    }
   ],
   "source": [
    "# Select training data using RSD and the MCC metric.\n",
    "roll_std_dev = ds_cmls.trsl.rolling(time=60, center=True).std() \n",
    "\n",
    "threshold = 1.12*roll_std_dev.quantile(0.8,dim='time')\n",
    "\n",
    "ds_cmls[\"wet_graf\"] = roll_std_dev>threshold\n",
    "\n",
    "keep = []\n",
    "mccs = []\n",
    "rg_used = [] # ensure that we use unique rain gauges\n",
    "for cml_id in ds_cmls.cml_id:\n",
    "    mcc_1 = matthews_corrcoef(ds_cmls.sel(cml_id = cml_id).radar_wet, ds_cmls.sel(cml_id = cml_id).wet_graf.isel(sublink_id = 0 ))\n",
    "    mcc_2 = matthews_corrcoef(ds_cmls.sel(cml_id = cml_id).radar_wet, ds_cmls.sel(cml_id = cml_id).wet_graf.isel(sublink_id = 1 ))\n",
    "    ch_1 =  mcc_1 > 0.3 \n",
    "    ch_2 =  mcc_2 > 0.3\n",
    "\n",
    "    # Use CML if both channels have a good mcc and the rain gauge has not been used before\n",
    "    if ch_1 and ch_2 and (ds_cmls.sel(cml_id = cml_id).gauge_id.values not in rg_used):# and (rainammount < 0.20) and (rainammount > 0.01):\n",
    "        rg_used.append(ds_cmls.sel(cml_id = cml_id).gauge_id.values)\n",
    "        keep.append(cml_id.values) # record name of cml\n",
    "        mccs.append(mcc_1) # record mcc from channel 1\n",
    "\n",
    "# get the 25 largest mccs\n",
    "indices = np.argpartition(mccs, -26)[-26:]\n",
    "keep = np.array(keep)[indices]\n",
    "\n",
    "# Select training data\n",
    "ds_cmls = ds_cmls.sel(cml_id = keep)"
   ]
  },
  {
   "cell_type": "code",
   "execution_count": 10,
   "id": "68696d4d-8ad4-4499-be2b-1233b768c5c5",
   "metadata": {},
   "outputs": [],
   "source": [
    "# Rename CMLs\n",
    "ds_cmls['cml_id'] = np.arange(ds_cmls.cml_id.size).astype(str)\n",
    "\n",
    "# Remove coordinates\n",
    "ds_cmls = ds_cmls.reset_coords(drop=True)"
   ]
  },
  {
   "cell_type": "code",
   "execution_count": 11,
   "id": "5c2b0096-f9ae-476f-835c-369f164b8a04",
   "metadata": {},
   "outputs": [],
   "source": [
    "# Save CML data \n",
    "ds_cmls.to_netcdf(\"train_rad.nc\")"
   ]
  }
 ],
 "metadata": {
  "kernelspec": {
   "display_name": "Python 3 (ipykernel)",
   "language": "python",
   "name": "python3"
  },
  "language_info": {
   "codemirror_mode": {
    "name": "ipython",
    "version": 3
   },
   "file_extension": ".py",
   "mimetype": "text/x-python",
   "name": "python",
   "nbconvert_exporter": "python",
   "pygments_lexer": "ipython3",
   "version": "3.12.7"
  }
 },
 "nbformat": 4,
 "nbformat_minor": 5
}
